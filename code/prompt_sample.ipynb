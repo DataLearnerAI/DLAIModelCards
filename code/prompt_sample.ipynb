{
 "cells": [
  {
   "cell_type": "code",
   "execution_count": null,
   "metadata": {},
   "outputs": [],
   "source": [
    "import openai\n",
    "\n",
    "openai.organization = \"这里输入你的OpenAI的OrgID\"\n",
    "openai.api_key = \"这里输入你的OpenAI的APIKey\""
   ]
  },
  {
   "cell_type": "code",
   "execution_count": null,
   "metadata": {},
   "outputs": [],
   "source": [
    "def get_completion(prompt, model=\"gpt-3.5-turbo\"):\n",
    "    messages = [{\"role\": \"user\", \"content\": prompt}]\n",
    "    response = openai.ChatCompletion.create(\n",
    "        model=model,\n",
    "        messages=messages,\n",
    "        temperature=0, # this is the degree of randomness of the model's output\n",
    "    )\n",
    "    return response.choices[0].message[\"content\"]"
   ]
  },
  {
   "cell_type": "code",
   "execution_count": null,
   "metadata": {},
   "outputs": [],
   "source": [
    "input_text = \"\"\"\n",
    "在这里输入模型相关的介绍内容\n",
    "\"\"\""
   ]
  },
  {
   "cell_type": "code",
   "execution_count": null,
   "metadata": {},
   "outputs": [],
   "source": [
    "prompt = f\"\"\"\n",
    "Your task is to extract AI model information from a model description text.\n",
    "\n",
    "Extract the model information provided in the technical specifications delimited by \n",
    "triple backticks.\n",
    "\n",
    "Show the model infomation with markdown table format. You need to show the model name, model type, parameter size, code opensource license, checkpoints opensource license, the base model. If no information provided, use empty string to replace.\n",
    "\n",
    "Note that the model type should be filled by the following rules:\n",
    "If the model is a language model which do not use any finetuned techniques, then this is a base language model.\n",
    "If the model is finetuned for chat, then the model is chat-finetuned.\n",
    "If the model is finetuned by instruction data, then the model is instruction-finetuned.\n",
    "If the model is optimzied for coding, then the model is coding-finetuned.\n",
    "\n",
    "Technical specifications: ```{input_text}```\n",
    "\"\"\"\n",
    "response = get_completion(prompt)\n",
    "print(response)\n"
   ]
  },
  {
   "cell_type": "code",
   "execution_count": null,
   "metadata": {},
   "outputs": [],
   "source": [
    "### 也可以通过下面这个方法来看看上面输入的markdown结果是不是对的\n",
    "from IPython.display import display_markdown\n",
    "display_markdown(response, raw=True)"
   ]
  }
 ],
 "metadata": {
  "language_info": {
   "name": "python"
  },
  "orig_nbformat": 4
 },
 "nbformat": 4,
 "nbformat_minor": 2
}
